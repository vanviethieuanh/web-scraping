{
 "metadata": {
  "language_info": {
   "codemirror_mode": {
    "name": "ipython",
    "version": 3
   },
   "file_extension": ".py",
   "mimetype": "text/x-python",
   "name": "python",
   "nbconvert_exporter": "python",
   "pygments_lexer": "ipython3",
   "version": "3.7.10"
  },
  "orig_nbformat": 2,
  "kernelspec": {
   "name": "python3710jvsc74a57bd005f67ca6b088aedcf9ce867f0104c3ffc4e723b9785bf95b0972f9b09ce6c081",
   "display_name": "Python 3.7.10 64-bit ('ds': conda)"
  }
 },
 "nbformat": 4,
 "nbformat_minor": 2,
 "cells": [
  {
   "cell_type": "code",
   "execution_count": 1,
   "metadata": {},
   "outputs": [],
   "source": [
    "# For reading + writing and standarlize\n",
    "import pandas as pd\n",
    "\n",
    "# For check wrong format\n",
    "import re"
   ]
  },
  {
   "cell_type": "code",
   "execution_count": 9,
   "metadata": {},
   "outputs": [
    {
     "output_type": "execute_result",
     "data": {
      "text/plain": [
       "                                             article_link  \\\n",
       "0       https://www.theguardian.com/law/2021/jun/08/po...   \n",
       "1       https://www.theguardian.com/business/2021/jun/...   \n",
       "2       https://www.theguardian.com/business/nils-prat...   \n",
       "3       https://www.theguardian.com/society/2021/jun/0...   \n",
       "4       https://www.theguardian.com/business/2021/jun/...   \n",
       "...                                                   ...   \n",
       "210440  https://www.cbsnews.com/news/super-bowl-ads-se...   \n",
       "210441  https://www.cbsnews.com/news/japan-airlines-ex...   \n",
       "210442  https://www.cbsnews.com/news/tech-myths-that-c...   \n",
       "210443  https://www.cbsnews.com/news/aig-thank-you-ame...   \n",
       "210444  https://www.cbsnews.com/news/ceo-gm-aims-for-i...   \n",
       "\n",
       "                                                 headline   posted_at  \\\n",
       "0        ‘Powerful’ new watchdog will target unscrupul...  07/06/2021   \n",
       "1       UK retail sales in May saw highest rise since ...  07/06/2021   \n",
       "2       G7 tax deal is welcome – but Treasury must now...  07/06/2021   \n",
       "3       Gambling awards under fire over lack of divers...  07/06/2021   \n",
       "4       UK hospitality calls for deal with landlords t...  07/06/2021   \n",
       "...                                                   ...         ...   \n",
       "210440    Super Bowl ads selling for more than $4 million  09/01/2013   \n",
       "210441       Japan Airlines explains Dreamliner fuel leak  09/01/2013   \n",
       "210442                     Tech myths that cost you money  09/01/2013   \n",
       "210443    AIG: Thank you, America -- and see you in court  09/01/2013   \n",
       "210444  CEO: GM aims for investment-grade status this ...  09/01/2013   \n",
       "\n",
       "        is_sarcastic  \n",
       "0                  0  \n",
       "1                  0  \n",
       "2                  0  \n",
       "3                  0  \n",
       "4                  0  \n",
       "...              ...  \n",
       "210440             0  \n",
       "210441             0  \n",
       "210442             0  \n",
       "210443             0  \n",
       "210444             0  \n",
       "\n",
       "[210445 rows x 4 columns]"
      ],
      "text/html": "<div>\n<style scoped>\n    .dataframe tbody tr th:only-of-type {\n        vertical-align: middle;\n    }\n\n    .dataframe tbody tr th {\n        vertical-align: top;\n    }\n\n    .dataframe thead th {\n        text-align: right;\n    }\n</style>\n<table border=\"1\" class=\"dataframe\">\n  <thead>\n    <tr style=\"text-align: right;\">\n      <th></th>\n      <th>article_link</th>\n      <th>headline</th>\n      <th>posted_at</th>\n      <th>is_sarcastic</th>\n    </tr>\n  </thead>\n  <tbody>\n    <tr>\n      <th>0</th>\n      <td>https://www.theguardian.com/law/2021/jun/08/po...</td>\n      <td>‘Powerful’ new watchdog will target unscrupul...</td>\n      <td>07/06/2021</td>\n      <td>0</td>\n    </tr>\n    <tr>\n      <th>1</th>\n      <td>https://www.theguardian.com/business/2021/jun/...</td>\n      <td>UK retail sales in May saw highest rise since ...</td>\n      <td>07/06/2021</td>\n      <td>0</td>\n    </tr>\n    <tr>\n      <th>2</th>\n      <td>https://www.theguardian.com/business/nils-prat...</td>\n      <td>G7 tax deal is welcome – but Treasury must now...</td>\n      <td>07/06/2021</td>\n      <td>0</td>\n    </tr>\n    <tr>\n      <th>3</th>\n      <td>https://www.theguardian.com/society/2021/jun/0...</td>\n      <td>Gambling awards under fire over lack of divers...</td>\n      <td>07/06/2021</td>\n      <td>0</td>\n    </tr>\n    <tr>\n      <th>4</th>\n      <td>https://www.theguardian.com/business/2021/jun/...</td>\n      <td>UK hospitality calls for deal with landlords t...</td>\n      <td>07/06/2021</td>\n      <td>0</td>\n    </tr>\n    <tr>\n      <th>...</th>\n      <td>...</td>\n      <td>...</td>\n      <td>...</td>\n      <td>...</td>\n    </tr>\n    <tr>\n      <th>210440</th>\n      <td>https://www.cbsnews.com/news/super-bowl-ads-se...</td>\n      <td>Super Bowl ads selling for more than $4 million</td>\n      <td>09/01/2013</td>\n      <td>0</td>\n    </tr>\n    <tr>\n      <th>210441</th>\n      <td>https://www.cbsnews.com/news/japan-airlines-ex...</td>\n      <td>Japan Airlines explains Dreamliner fuel leak</td>\n      <td>09/01/2013</td>\n      <td>0</td>\n    </tr>\n    <tr>\n      <th>210442</th>\n      <td>https://www.cbsnews.com/news/tech-myths-that-c...</td>\n      <td>Tech myths that cost you money</td>\n      <td>09/01/2013</td>\n      <td>0</td>\n    </tr>\n    <tr>\n      <th>210443</th>\n      <td>https://www.cbsnews.com/news/aig-thank-you-ame...</td>\n      <td>AIG: Thank you, America -- and see you in court</td>\n      <td>09/01/2013</td>\n      <td>0</td>\n    </tr>\n    <tr>\n      <th>210444</th>\n      <td>https://www.cbsnews.com/news/ceo-gm-aims-for-i...</td>\n      <td>CEO: GM aims for investment-grade status this ...</td>\n      <td>09/01/2013</td>\n      <td>0</td>\n    </tr>\n  </tbody>\n</table>\n<p>210445 rows × 4 columns</p>\n</div>"
     },
     "metadata": {},
     "execution_count": 9
    }
   ],
   "source": [
    "df = pd.read_csv('standarlized.csv')\n",
    "df"
   ]
  },
  {
   "cell_type": "code",
   "execution_count": 15,
   "metadata": {},
   "outputs": [],
   "source": [
    "df['posted_at'] = pd.to_datetime(df['posted_at'])"
   ]
  },
  {
   "cell_type": "code",
   "execution_count": 23,
   "metadata": {},
   "outputs": [
    {
     "output_type": "execute_result",
     "data": {
      "text/plain": [
       "                                             article_link  \\\n",
       "35244   https://www.theguardian.com/lifeandstyle/2018/...   \n",
       "72987   https://www.cbsnews.com/news/teen-dies-after-p...   \n",
       "100225  https://www.cbsnews.com/news/u-k-parking-garag...   \n",
       "100224  https://www.cbsnews.com/news/family-that-escap...   \n",
       "100223  https://www.cbsnews.com/news/prison-riot-in-br...   \n",
       "...                                                   ...   \n",
       "1238    https://www.theguardian.com/sport/2021/jun/06/...   \n",
       "1237    https://www.theguardian.com/sport/live/2021/ju...   \n",
       "1236    https://www.theguardian.com/sport/blog/2021/ju...   \n",
       "1234    https://www.theguardian.com/football/2021/jun/...   \n",
       "15      https://www.theguardian.com/business/2021/jun/...   \n",
       "\n",
       "                                                 headline  posted_at  \\\n",
       "35244   Glass half empty: the hangover from hell that ... 2018-01-01   \n",
       "72987   Teen dies after playing Russian roulette, poli... 2018-01-01   \n",
       "100225       U.K. parking garage fire destroys 1,400 cars 2018-01-01   \n",
       "100224  Last family to escape across Berlin Wall refle... 2018-01-01   \n",
       "100223         Prison riot leaves 9 dead, authorities say 2018-01-01   \n",
       "...                                                   ...        ...   \n",
       "1238    Sifan Hassan smashes women’s 10,000m record by... 2021-06-06   \n",
       "1237    Yorkshire’s Patterson and Bess shock Sussex: c... 2021-06-06   \n",
       "1236     Adam Kirby delivered fairytale Derby win but ... 2021-06-06   \n",
       "1234    Che Adams gives Scotland Euro 2020 lift agains... 2021-06-06   \n",
       "15      UK second to France again for attracting forei... 2021-06-06   \n",
       "\n",
       "        is_sarcastic  \n",
       "35244              0  \n",
       "72987              0  \n",
       "100225             0  \n",
       "100224             0  \n",
       "100223             0  \n",
       "...              ...  \n",
       "1238               0  \n",
       "1237               0  \n",
       "1236               0  \n",
       "1234               0  \n",
       "15                 0  \n",
       "\n",
       "[94965 rows x 4 columns]"
      ],
      "text/html": "<div>\n<style scoped>\n    .dataframe tbody tr th:only-of-type {\n        vertical-align: middle;\n    }\n\n    .dataframe tbody tr th {\n        vertical-align: top;\n    }\n\n    .dataframe thead th {\n        text-align: right;\n    }\n</style>\n<table border=\"1\" class=\"dataframe\">\n  <thead>\n    <tr style=\"text-align: right;\">\n      <th></th>\n      <th>article_link</th>\n      <th>headline</th>\n      <th>posted_at</th>\n      <th>is_sarcastic</th>\n    </tr>\n  </thead>\n  <tbody>\n    <tr>\n      <th>35244</th>\n      <td>https://www.theguardian.com/lifeandstyle/2018/...</td>\n      <td>Glass half empty: the hangover from hell that ...</td>\n      <td>2018-01-01</td>\n      <td>0</td>\n    </tr>\n    <tr>\n      <th>72987</th>\n      <td>https://www.cbsnews.com/news/teen-dies-after-p...</td>\n      <td>Teen dies after playing Russian roulette, poli...</td>\n      <td>2018-01-01</td>\n      <td>0</td>\n    </tr>\n    <tr>\n      <th>100225</th>\n      <td>https://www.cbsnews.com/news/u-k-parking-garag...</td>\n      <td>U.K. parking garage fire destroys 1,400 cars</td>\n      <td>2018-01-01</td>\n      <td>0</td>\n    </tr>\n    <tr>\n      <th>100224</th>\n      <td>https://www.cbsnews.com/news/family-that-escap...</td>\n      <td>Last family to escape across Berlin Wall refle...</td>\n      <td>2018-01-01</td>\n      <td>0</td>\n    </tr>\n    <tr>\n      <th>100223</th>\n      <td>https://www.cbsnews.com/news/prison-riot-in-br...</td>\n      <td>Prison riot leaves 9 dead, authorities say</td>\n      <td>2018-01-01</td>\n      <td>0</td>\n    </tr>\n    <tr>\n      <th>...</th>\n      <td>...</td>\n      <td>...</td>\n      <td>...</td>\n      <td>...</td>\n    </tr>\n    <tr>\n      <th>1238</th>\n      <td>https://www.theguardian.com/sport/2021/jun/06/...</td>\n      <td>Sifan Hassan smashes women’s 10,000m record by...</td>\n      <td>2021-06-06</td>\n      <td>0</td>\n    </tr>\n    <tr>\n      <th>1237</th>\n      <td>https://www.theguardian.com/sport/live/2021/ju...</td>\n      <td>Yorkshire’s Patterson and Bess shock Sussex: c...</td>\n      <td>2021-06-06</td>\n      <td>0</td>\n    </tr>\n    <tr>\n      <th>1236</th>\n      <td>https://www.theguardian.com/sport/blog/2021/ju...</td>\n      <td>Adam Kirby delivered fairytale Derby win but ...</td>\n      <td>2021-06-06</td>\n      <td>0</td>\n    </tr>\n    <tr>\n      <th>1234</th>\n      <td>https://www.theguardian.com/football/2021/jun/...</td>\n      <td>Che Adams gives Scotland Euro 2020 lift agains...</td>\n      <td>2021-06-06</td>\n      <td>0</td>\n    </tr>\n    <tr>\n      <th>15</th>\n      <td>https://www.theguardian.com/business/2021/jun/...</td>\n      <td>UK second to France again for attracting forei...</td>\n      <td>2021-06-06</td>\n      <td>0</td>\n    </tr>\n  </tbody>\n</table>\n<p>94965 rows × 4 columns</p>\n</div>"
     },
     "metadata": {},
     "execution_count": 23
    }
   ],
   "source": [
    "start_date = pd.Timestamp('31/12/2017')\n",
    "end_date = pd.Timestamp('today')\n",
    "df.loc[(df['posted_at'] > start_date) & (df['posted_at'] < end_date)].sort_values('posted_at')"
   ]
  }
 ]
}