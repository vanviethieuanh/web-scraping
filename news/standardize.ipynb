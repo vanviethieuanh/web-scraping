{
 "metadata": {
  "language_info": {
   "codemirror_mode": {
    "name": "ipython",
    "version": 3
   },
   "file_extension": ".py",
   "mimetype": "text/x-python",
   "name": "python",
   "nbconvert_exporter": "python",
   "pygments_lexer": "ipython3",
   "version": "3.7.10"
  },
  "orig_nbformat": 2,
  "kernelspec": {
   "name": "python3710jvsc74a57bd005f67ca6b088aedcf9ce867f0104c3ffc4e723b9785bf95b0972f9b09ce6c081",
   "display_name": "Python 3.7.10 64-bit ('ds': conda)"
  }
 },
 "nbformat": 4,
 "nbformat_minor": 2,
 "cells": [
  {
   "cell_type": "code",
   "execution_count": 1,
   "metadata": {},
   "outputs": [],
   "source": [
    "# For reading + writing and standarlize\n",
    "import pandas as pd\n",
    "\n",
    "# For check wrong format\n",
    "import re"
   ]
  },
  {
   "cell_type": "code",
   "execution_count": 2,
   "metadata": {},
   "outputs": [],
   "source": [
    "df = pd.read_csv('data.csv')"
   ]
  },
  {
   "cell_type": "code",
   "execution_count": 3,
   "metadata": {},
   "outputs": [],
   "source": [
    "def thisYear(date):\n",
    "    # Find date of this year like \"03 Jan\" in CBS news\n",
    "    pattern = re.compile(r'\\w{3} \\d{,2}$')\n",
    "    \n",
    "    # If match to pattern add 2021 to the end, else return itself\n",
    "    if bool(pattern.match(date)):\n",
    "        return date + ', 2021'\n",
    "    \n",
    "    return date\n",
    "\n",
    "# Apply above function to posted_at column\n",
    "df['posted_at'] = df['posted_at'].apply(thisYear)"
   ]
  },
  {
   "cell_type": "code",
   "execution_count": 4,
   "metadata": {},
   "outputs": [],
   "source": [
    "# Turn posted_at to datetime. All error with be turn to NaT for the reason it the time like \"16 hours ago\" which mean today, so we will fill it with today\n",
    "df['posted_at'] = pd.to_datetime(df['posted_at'], errors='coerce', utc=True)\n",
    "df['posted_at'] = df['posted_at'].fillna(pd.to_datetime('today'))\n",
    "df['posted_at'] = pd.to_datetime(df['posted_at'], errors='coerce', utc=True)"
   ]
  },
  {
   "cell_type": "code",
   "execution_count": 5,
   "metadata": {},
   "outputs": [],
   "source": [
    "# Turn all date to same format\n",
    "df['posted_at'] = df['posted_at'].dt.strftime('%d/%m/%Y')"
   ]
  },
  {
   "cell_type": "code",
   "execution_count": 6,
   "metadata": {},
   "outputs": [],
   "source": [
    "df.to_csv('standarlized.csv', index=False)"
   ]
  }
 ]
}